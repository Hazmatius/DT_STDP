{
 "cells": [
  {
   "cell_type": "code",
   "execution_count": 7,
   "metadata": {},
   "outputs": [],
   "source": [
    "import torch\n",
    "import torch.nn as nn\n",
    "import numpy as np\n",
    "import copy\n",
    "import pytorch_STDP\n",
    "import os\n",
    "from pytorch_STDP import RIPLayer\n",
    "from pytorch_STDP import RIPNetwork\n",
    "import matplotlib.pyplot as plt\n",
    "from mpl_toolkits.axes_grid1 import make_axes_locatable\n",
    "import scipy\n",
    "from scipy.stats import entropy\n",
    "from datetime import datetime\n",
    "\n",
    "\n",
    "class RIPCoder(nn.Module):\n",
    "    def __init__(self, encoder_dims, max_encoder_rate, max_decoder_rate):\n",
    "        super(RIPCoder, self).__init__()\n",
    "        decoder_dims = [i for i in reversed(encoder_dims)]\n",
    "        self.encoder = RIPNetwork(encoder_dims, max_encoder_rate, True, True)\n",
    "        self.decoder = RIPNetwork(decoder_dims, max_decoder_rate, False, True)\n",
    "\n",
    "    def forward(self, input):\n",
    "        code = self.encoder(input)\n",
    "        return self.decoder(code), code\n",
    "\n",
    "\n",
    "folder = '/Users/alexbaranski/Desktop/fig_folder/'"
   ]
  },
  {
   "cell_type": "code",
   "execution_count": 8,
   "metadata": {},
   "outputs": [],
   "source": [
    "def random_vector(f_max, N):\n",
    "    rate = f_max * torch.rand(1, N, requires_grad=True)\n",
    "    phase = torch.zeros(1, N, requires_grad=True)# + torch.randint(0, 3, (1, N))/4\n",
    "    # rate[torch.rand_like(rate) < 0.65] = 0.0\n",
    "    vector = (rate, phase)\n",
    "    return pytorch_STDP.polar_to_cart(vector)\n",
    "\n",
    "def jitter(complex_tensor):\n",
    "    tensor_polar = pytorch_STDP.cart_to_polar(complex_tensor)\n",
    "    rate = tensor_polar[0]\n",
    "    phase = tensor_polar[1]\n",
    "    jitter_tensor = pytorch_STDP.polar_to_cart((rate, phase + torch.rand_like(phase)/20))\n",
    "    return jitter_tensor"
   ]
  },
  {
   "cell_type": "code",
   "execution_count": 103,
   "metadata": {},
   "outputs": [],
   "source": [
    "def make_tensor(rates, phases):\n",
    "    rate_tensor = torch.zeros(1, len(rates))\n",
    "    phase_tensor = torch.zeros(1, len(phases))\n",
    "    for i in range(len(rates)):\n",
    "        rate_tensor[0][i] = float(rates[i])\n",
    "        phase_tensor[0][i] = float(phases[i])\n",
    "    return pytorch_STDP.polar_to_cart((rate_tensor, phase_tensor))"
   ]
  },
  {
   "cell_type": "code",
   "execution_count": 242,
   "metadata": {},
   "outputs": [],
   "source": [
    "def train_network(network, dataset, lr, iters):\n",
    "    optimizer = torch.optim.SGD(network.parameters(), lr=lr)\n",
    "    mse = nn.MSELoss()\n",
    "\n",
    "    error_hist = list()\n",
    "    \n",
    "    for i in range(iters):\n",
    "        error = torch.zeros(1, requires_grad=True)\n",
    "        for j in range(len(dataset)):\n",
    "            x = dataset[j]\n",
    "            x_hat, code = network.forward(x)\n",
    "            x_hat_polar = pytorch_STDP.cart_to_polar(x_hat)\n",
    "            x_polar = pytorch_STDP.cart_to_polar(x)\n",
    "            error = error + mse.forward(x_hat_polar[0], x_polar[0])\n",
    "        if i % 250 == 0:\n",
    "            print('    {} - ERROR:{:.5f}'.format(i, error.item()))\n",
    "        error_hist.append(error.item())\n",
    "        optimizer.zero_grad()\n",
    "        error.backward(retain_graph=True)\n",
    "        optimizer.step()\n",
    "    return error_hist, network\n",
    "\n",
    "def train_network_2(network, lr, iters):\n",
    "    optimizer = torch.optim.SGD(network.parameters(), lr=lr)\n",
    "    mse = nn.MSELoss()\n",
    "\n",
    "    error_hist = list()\n",
    "    \n",
    "    for i in range(iters):\n",
    "        error = torch.zeros(1, requires_grad=True)\n",
    "        for j in range(20):\n",
    "            x = make_tensor([np.random.rand()*30], [0])\n",
    "            x_hat, code = network.forward(x)\n",
    "            x_hat_polar = pytorch_STDP.cart_to_polar(x_hat)\n",
    "            x_polar = pytorch_STDP.cart_to_polar(x)\n",
    "            error = error + mse.forward(x_hat_polar[0], x_polar[0])\n",
    "        if i % 250 == 0:\n",
    "            print('    {} - ERROR:{:.5f}'.format(i, error.item()))\n",
    "        error_hist.append(error.item())\n",
    "        optimizer.zero_grad()\n",
    "        error.backward(retain_graph=True)\n",
    "        optimizer.step()\n",
    "    return error_hist, network"
   ]
  },
  {
   "cell_type": "code",
   "execution_count": 172,
   "metadata": {},
   "outputs": [],
   "source": [
    "def get_error_history(dataset, add_jitter):\n",
    "    encoder_dims = [int(round(i)) for i in np.linspace(32, 8, 6)]\n",
    "    encoder_max_rate = 1\n",
    "    decoder_max_rate = 1\n",
    "    \n",
    "    ripcoder = RIPCoder(encoder_dims, encoder_max_rate, decoder_max_rate)\n",
    "    optimizer = torch.optim.SGD(ripcoder.parameters(), lr=0.1)\n",
    "    mse = nn.MSELoss()\n",
    "\n",
    "    error_hist = list()\n",
    "    \n",
    "    for i in range(10000):\n",
    "        error = torch.zeros(1, requires_grad=True)\n",
    "        for j in range(len(dataset)):\n",
    "            if add_jitter:\n",
    "                x = jitter(dataset[j])\n",
    "            else:\n",
    "                x = dataset[j]\n",
    "            # print(x)\n",
    "            x_hat, code = ripcoder.forward(x)\n",
    "            x_hat_polar = pytorch_STDP.cart_to_polar(x_hat)\n",
    "            x_polar = pytorch_STDP.cart_to_polar(x)\n",
    "            error = error + mse.forward(x_hat_polar[0], x_polar[0])\n",
    "        if i % 100 == 0:\n",
    "            print('    {} - ERROR:{:.5f}'.format(i, error.item()))\n",
    "        error_hist.append(error.item())\n",
    "        optimizer.zero_grad()\n",
    "        error.backward(retain_graph=True)\n",
    "        optimizer.step()\n",
    "    return error_hist, ripcoder\n",
    "        \n",
    "def get_avg_trajectory(traj_list):\n",
    "    return sum([np.array(traj) for traj in traj_list]) / len(traj_list)\n",
    "        "
   ]
  },
  {
   "cell_type": "code",
   "execution_count": 243,
   "metadata": {},
   "outputs": [],
   "source": [
    "rates = [0, 5, 10, 15, 20, 25]\n",
    "dataset = [make_tensor([rate], [0]) for rate in rates]\n",
    "# a0 = make_tensor([5], [0])\n",
    "# a1 = make_tensor([10], [0])\n",
    "# a2 = make_tensor([15], [0])\n",
    "# a3 = make_tensor([30], [0])\n",
    "# a2 = random_vector(10, 2)\n",
    "# a1 = pytorch_STDP.polar_to_cart((torch.tensor([[10.0]], requires_grad=True), torch.tensor([[0.0]], requires_grad=True)))\n",
    "# a2 = pytorch_STDP.polar_to_cart((torch.tensor([[15.0]], requires_grad=True), torch.tensor([[0.0]], requires_grad=True)))\n",
    "# a3 = pytorch_STDP.polar_to_cart((torch.tensor([[20.0]], requires_grad=True), torch.tensor([[0.0]], requires_grad=True)))\n",
    "\n",
    "# dataset = [a0, a1, a2, a3]\n",
    "# print(a1)\n",
    "# print(a2)"
   ]
  },
  {
   "cell_type": "code",
   "execution_count": 249,
   "metadata": {},
   "outputs": [
    {
     "name": "stdout",
     "output_type": "stream",
     "text": [
      "    0 - ERROR:35.04125\n",
      "    250 - ERROR:10.96294\n",
      "    500 - ERROR:18.10490\n",
      "    750 - ERROR:18.69323\n"
     ]
    }
   ],
   "source": [
    "# small_ripcoder = RIPCoder([1, 3], 1, 40)\n",
    "# print(small_ripcoder)\n",
    "error_hist, small_ripcoder = train_network_2(small_ripcoder, 0.001, 1000)"
   ]
  },
  {
   "cell_type": "code",
   "execution_count": 250,
   "metadata": {},
   "outputs": [
    {
     "name": "stdout",
     "output_type": "stream",
     "text": [
      "10.000, 9.121\n",
      "\n",
      "\n",
      "1.000, 0.223\n",
      "1.000, 0.078\n",
      "1.000, 0.578\n"
     ]
    }
   ],
   "source": [
    "data_element = a1\n",
    "\n",
    "x_hat, x_code = small_ripcoder(data_element)\n",
    "polar_a1 = pytorch_STDP.cart_to_polar(data_element)\n",
    "polar_x_hat = pytorch_STDP.cart_to_polar(x_hat)\n",
    "polar_x_code = pytorch_STDP.cart_to_polar(x_code)\n",
    "\n",
    "for i in range(torch.numel(a1[0])):\n",
    "    print('{:.3f}, {:.3f}'.format(polar_a1[0][0][i].item(), polar_x_hat[0][0][i].item()))\n",
    "    \n",
    "print('\\n')\n",
    "\n",
    "for i in range(torch.numel(polar_x_code[0])):\n",
    "    print('{:.3f}, {:.3f}'.format(polar_x_code[0][0][i].item(), polar_x_code[1][0][i].item()))"
   ]
  },
  {
   "cell_type": "code",
   "execution_count": 251,
   "metadata": {},
   "outputs": [],
   "source": [
    "rates = np.arange(0, 51, 0.1)\n",
    "rates_hat = np.zeros_like(rates)\n",
    "\n",
    "for index, rate in enumerate(rates):\n",
    "    data_element = make_tensor([rate], [0])\n",
    "    x_hat, x_code = small_ripcoder(data_element)\n",
    "    polar_a1 = pytorch_STDP.cart_to_polar(data_element)\n",
    "    polar_x_hat = pytorch_STDP.cart_to_polar(x_hat)\n",
    "    polar_x_code = pytorch_STDP.cart_to_polar(x_code)\n",
    "    # print(polar_x_hat)\n",
    "    rates_hat[index] = polar_x_hat[0][0].item()"
   ]
  },
  {
   "cell_type": "code",
   "execution_count": 252,
   "metadata": {},
   "outputs": [
    {
     "data": {
      "text/plain": [
       "[<matplotlib.lines.Line2D at 0x7fcbe1b9d550>]"
      ]
     },
     "execution_count": 252,
     "metadata": {},
     "output_type": "execute_result"
    },
    {
     "data": {
      "image/png": "[encoded data removed]",
      "text/plain": [
       "<Figure size 432x288 with 1 Axes>"
      ]
     },
     "metadata": {
      "needs_background": "light"
     },
     "output_type": "display_data"
    }
   ],
   "source": [
    "plt.plot(rates, rates_hat)\n",
    "plt.plot(rates, rates)"
   ]
  },
  {
   "cell_type": "code",
   "execution_count": 189,
   "metadata": {},
   "outputs": [
    {
     "name": "stdout",
     "output_type": "stream",
     "text": [
      "Parameter containing:\n",
      "tensor([[2.5644]], requires_grad=True)\n",
      "Parameter containing:\n",
      "tensor([-42.7981], requires_grad=True)\n"
     ]
    }
   ],
   "source": [
    "print(small_ripcoder.encoder.network[0].affine.linear.weight)\n",
    "print(small_ripcoder.encoder.network[0].affine.linear.bias)"
   ]
  },
  {
   "cell_type": "code",
   "execution_count": null,
   "metadata": {},
   "outputs": [],
   "source": []
  },
  {
   "cell_type": "code",
   "execution_count": 68,
   "metadata": {},
   "outputs": [
    {
     "name": "stdout",
     "output_type": "stream",
     "text": [
      "no jitter\n",
      "    0 - ERROR:1.76073\n",
      "    100 - ERROR:0.79645\n",
      "    200 - ERROR:0.62446\n",
      "    300 - ERROR:0.66268\n",
      "    400 - ERROR:0.46898\n",
      "    500 - ERROR:0.41050\n",
      "    600 - ERROR:0.83894\n",
      "    700 - ERROR:0.58064\n",
      "    800 - ERROR:0.92368\n",
      "    900 - ERROR:0.67692\n",
      "    1000 - ERROR:0.35107\n",
      "    1100 - ERROR:0.32926\n",
      "    1200 - ERROR:0.26332\n",
      "    1300 - ERROR:0.20385\n",
      "    1400 - ERROR:0.86522\n",
      "    1500 - ERROR:0.74534\n",
      "    1600 - ERROR:0.59362\n",
      "    1700 - ERROR:0.37474\n"
     ]
    },
    {
     "ename": "KeyboardInterrupt",
     "evalue": "",
     "output_type": "error",
     "traceback": [
      "\u001b[0;31m---------------------------------------------------------------------------\u001b[0m",
      "\u001b[0;31mKeyboardInterrupt\u001b[0m                         Traceback (most recent call last)",
      "\u001b[0;32m<ipython-input-68-8d3a9e2d557a>\u001b[0m in \u001b[0;36m<module>\u001b[0;34m\u001b[0m\n\u001b[1;32m     10\u001b[0m \u001b[0;32mfor\u001b[0m \u001b[0mi\u001b[0m \u001b[0;32min\u001b[0m \u001b[0mrange\u001b[0m\u001b[0;34m(\u001b[0m\u001b[0;36m1\u001b[0m\u001b[0;34m)\u001b[0m\u001b[0;34m:\u001b[0m\u001b[0;34m\u001b[0m\u001b[0;34m\u001b[0m\u001b[0m\n\u001b[1;32m     11\u001b[0m     \u001b[0mprint\u001b[0m\u001b[0;34m(\u001b[0m\u001b[0;34m'no jitter'\u001b[0m\u001b[0;34m)\u001b[0m\u001b[0;34m\u001b[0m\u001b[0;34m\u001b[0m\u001b[0m\n\u001b[0;32m---> 12\u001b[0;31m     \u001b[0merror_hist\u001b[0m\u001b[0;34m,\u001b[0m \u001b[0mripnet\u001b[0m \u001b[0;34m=\u001b[0m \u001b[0mget_error_history\u001b[0m\u001b[0;34m(\u001b[0m\u001b[0mdataset\u001b[0m\u001b[0;34m,\u001b[0m \u001b[0;32mFalse\u001b[0m\u001b[0;34m)\u001b[0m\u001b[0;34m\u001b[0m\u001b[0;34m\u001b[0m\u001b[0m\n\u001b[0m\u001b[1;32m     13\u001b[0m     \u001b[0mwithout_jitter\u001b[0m\u001b[0;34m.\u001b[0m\u001b[0mappend\u001b[0m\u001b[0;34m(\u001b[0m\u001b[0merror_hist\u001b[0m\u001b[0;34m)\u001b[0m\u001b[0;34m\u001b[0m\u001b[0;34m\u001b[0m\u001b[0m\n\u001b[1;32m     14\u001b[0m     \u001b[0mwithout_jitter_models\u001b[0m\u001b[0;34m.\u001b[0m\u001b[0mappend\u001b[0m\u001b[0;34m(\u001b[0m\u001b[0mripnet\u001b[0m\u001b[0;34m)\u001b[0m\u001b[0;34m\u001b[0m\u001b[0;34m\u001b[0m\u001b[0m\n",
      "\u001b[0;32m<ipython-input-56-83e3a68cbf9f>\u001b[0m in \u001b[0;36mget_error_history\u001b[0;34m(dataset, add_jitter)\u001b[0m\n\u001b[1;32m     26\u001b[0m         \u001b[0merror_hist\u001b[0m\u001b[0;34m.\u001b[0m\u001b[0mappend\u001b[0m\u001b[0;34m(\u001b[0m\u001b[0merror\u001b[0m\u001b[0;34m.\u001b[0m\u001b[0mitem\u001b[0m\u001b[0;34m(\u001b[0m\u001b[0;34m)\u001b[0m\u001b[0;34m)\u001b[0m\u001b[0;34m\u001b[0m\u001b[0;34m\u001b[0m\u001b[0m\n\u001b[1;32m     27\u001b[0m         \u001b[0moptimizer\u001b[0m\u001b[0;34m.\u001b[0m\u001b[0mzero_grad\u001b[0m\u001b[0;34m(\u001b[0m\u001b[0;34m)\u001b[0m\u001b[0;34m\u001b[0m\u001b[0;34m\u001b[0m\u001b[0m\n\u001b[0;32m---> 28\u001b[0;31m         \u001b[0merror\u001b[0m\u001b[0;34m.\u001b[0m\u001b[0mbackward\u001b[0m\u001b[0;34m(\u001b[0m\u001b[0mretain_graph\u001b[0m\u001b[0;34m=\u001b[0m\u001b[0;32mTrue\u001b[0m\u001b[0;34m)\u001b[0m\u001b[0;34m\u001b[0m\u001b[0;34m\u001b[0m\u001b[0m\n\u001b[0m\u001b[1;32m     29\u001b[0m         \u001b[0moptimizer\u001b[0m\u001b[0;34m.\u001b[0m\u001b[0mstep\u001b[0m\u001b[0;34m(\u001b[0m\u001b[0;34m)\u001b[0m\u001b[0;34m\u001b[0m\u001b[0;34m\u001b[0m\u001b[0m\n\u001b[1;32m     30\u001b[0m     \u001b[0;32mreturn\u001b[0m \u001b[0merror_hist\u001b[0m\u001b[0;34m,\u001b[0m \u001b[0mripcoder\u001b[0m\u001b[0;34m\u001b[0m\u001b[0;34m\u001b[0m\u001b[0m\n",
      "\u001b[0;32m~/opt/anaconda3/envs/DT_STDP/lib/python3.8/site-packages/torch/tensor.py\u001b[0m in \u001b[0;36mbackward\u001b[0;34m(self, gradient, retain_graph, create_graph)\u001b[0m\n\u001b[1;32m    219\u001b[0m                 \u001b[0mretain_graph\u001b[0m\u001b[0;34m=\u001b[0m\u001b[0mretain_graph\u001b[0m\u001b[0;34m,\u001b[0m\u001b[0;34m\u001b[0m\u001b[0;34m\u001b[0m\u001b[0m\n\u001b[1;32m    220\u001b[0m                 create_graph=create_graph)\n\u001b[0;32m--> 221\u001b[0;31m         \u001b[0mtorch\u001b[0m\u001b[0;34m.\u001b[0m\u001b[0mautograd\u001b[0m\u001b[0;34m.\u001b[0m\u001b[0mbackward\u001b[0m\u001b[0;34m(\u001b[0m\u001b[0mself\u001b[0m\u001b[0;34m,\u001b[0m \u001b[0mgradient\u001b[0m\u001b[0;34m,\u001b[0m \u001b[0mretain_graph\u001b[0m\u001b[0;34m,\u001b[0m \u001b[0mcreate_graph\u001b[0m\u001b[0;34m)\u001b[0m\u001b[0;34m\u001b[0m\u001b[0;34m\u001b[0m\u001b[0m\n\u001b[0m\u001b[1;32m    222\u001b[0m \u001b[0;34m\u001b[0m\u001b[0m\n\u001b[1;32m    223\u001b[0m     \u001b[0;32mdef\u001b[0m \u001b[0mregister_hook\u001b[0m\u001b[0;34m(\u001b[0m\u001b[0mself\u001b[0m\u001b[0;34m,\u001b[0m \u001b[0mhook\u001b[0m\u001b[0;34m)\u001b[0m\u001b[0;34m:\u001b[0m\u001b[0;34m\u001b[0m\u001b[0;34m\u001b[0m\u001b[0m\n",
      "\u001b[0;32m~/opt/anaconda3/envs/DT_STDP/lib/python3.8/site-packages/torch/autograd/__init__.py\u001b[0m in \u001b[0;36mbackward\u001b[0;34m(tensors, grad_tensors, retain_graph, create_graph, grad_variables)\u001b[0m\n\u001b[1;32m    128\u001b[0m         \u001b[0mretain_graph\u001b[0m \u001b[0;34m=\u001b[0m \u001b[0mcreate_graph\u001b[0m\u001b[0;34m\u001b[0m\u001b[0;34m\u001b[0m\u001b[0m\n\u001b[1;32m    129\u001b[0m \u001b[0;34m\u001b[0m\u001b[0m\n\u001b[0;32m--> 130\u001b[0;31m     Variable._execution_engine.run_backward(\n\u001b[0m\u001b[1;32m    131\u001b[0m         \u001b[0mtensors\u001b[0m\u001b[0;34m,\u001b[0m \u001b[0mgrad_tensors_\u001b[0m\u001b[0;34m,\u001b[0m \u001b[0mretain_graph\u001b[0m\u001b[0;34m,\u001b[0m \u001b[0mcreate_graph\u001b[0m\u001b[0;34m,\u001b[0m\u001b[0;34m\u001b[0m\u001b[0;34m\u001b[0m\u001b[0m\n\u001b[1;32m    132\u001b[0m         allow_unreachable=True)  # allow_unreachable flag\n",
      "\u001b[0;31mKeyboardInterrupt\u001b[0m: "
     ]
    }
   ],
   "source": [
    "without_jitter = list()\n",
    "with_jitter = list()\n",
    "without_jitter_models = list()\n",
    "with_jitter_models = list()\n",
    "\n",
    "dataset = list()\n",
    "for i in range(10):\n",
    "    dataset.append(random_vector(1, 32))\n",
    "\n",
    "for i in range(1):\n",
    "    print('no jitter')\n",
    "    error_hist, ripnet = get_error_history(dataset, False)\n",
    "    without_jitter.append(error_hist)\n",
    "    without_jitter_models.append(ripnet)\n",
    "    # without_jitter.append(get_error_history(dataset, False))\n",
    "    \n",
    "#     print('jitter')\n",
    "#     error_hist, ripnet = get_error_history(dataset, True)\n",
    "#     with_jitter.append(error_hist)\n",
    "#     with_jitter_models.append(ripnet)\n",
    "    \n",
    "    # with_jitter.append(get_error_history(dataset, True))"
   ]
  },
  {
   "cell_type": "code",
   "execution_count": 34,
   "metadata": {},
   "outputs": [
    {
     "name": "stdout",
     "output_type": "stream",
     "text": [
      "0.056 : 0.054\n",
      "0.784 : 0.777\n",
      "0.373 : 0.375\n",
      "0.634 : 0.637\n",
      "0.192 : 0.200\n",
      "0.088 : 0.093\n",
      "0.207 : 0.207\n",
      "0.197 : 0.196\n",
      "0.244 : 0.241\n",
      "0.564 : 0.566\n",
      "0.296 : 0.307\n",
      "0.171 : 0.174\n",
      "0.463 : 0.462\n",
      "0.702 : 0.704\n",
      "0.648 : 0.650\n",
      "0.577 : 0.577\n",
      "0.074 : 0.073\n",
      "0.756 : 0.763\n",
      "0.545 : 0.542\n",
      "0.591 : 0.591\n",
      "0.182 : 0.182\n",
      "0.365 : 0.367\n",
      "0.853 : 0.850\n",
      "0.006 : 0.009\n",
      "0.461 : 0.460\n",
      "0.751 : 0.757\n",
      "0.982 : 0.967\n",
      "0.630 : 0.630\n",
      "0.239 : 0.247\n",
      "0.980 : 0.954\n",
      "0.771 : 0.774\n",
      "0.222 : 0.227\n",
      "\n",
      "\n",
      "\n",
      "0.260\n",
      "0.527\n",
      "0.840\n",
      "0.738\n",
      "0.710\n",
      "0.235\n",
      "0.027\n",
      "0.085\n"
     ]
    }
   ],
   "source": [
    "index = 9\n",
    "x = dataset[index]\n",
    "y, c = ripnet(x)\n",
    "x = pytorch_STDP.cart_to_polar(x)\n",
    "y = pytorch_STDP.cart_to_polar(y)\n",
    "c = pytorch_STDP.cart_to_polar(c)\n",
    "\n",
    "for i in range(torch.numel(x[0])):\n",
    "    print('{:.3f} : {:.3f}'.format(x[0][0][i].item(), y[0][0][i].item()))\n",
    "    \n",
    "print(2 * '\\n')\n",
    "\n",
    "for i in range(torch.numel(c[0])):\n",
    "    \n",
    "    print('{:.3f}'.format(c[1][0][i]))"
   ]
  },
  {
   "cell_type": "code",
   "execution_count": null,
   "metadata": {},
   "outputs": [],
   "source": [
    "for x in dataset:\n",
    "    "
   ]
  },
  {
   "cell_type": "code",
   "execution_count": null,
   "metadata": {},
   "outputs": [],
   "source": [
    "# mean_without_jitter = get_avg_trajectory(without_jitter)\n",
    "mean_with_jitter = get_avg_trajectory(with_jitter)\n",
    "\n",
    "jitter_fig = plt.figure()\n",
    "# plt.plot(mean_without_jitter)\n",
    "# plt.plot(with_jitter[0])\n",
    "# plt.plot(with_jitter[1])\n",
    "# plt.plot(with_jitter[2])\n",
    "plt.plot(mean_with_jitter)\n",
    "plt.yscale('log')\n",
    "plt.xlabel('Training iteration')\n",
    "plt.ylabel('Training error')\n",
    "plt.title('Denoising autoencoder')\n",
    "\n",
    "plt.savefig('/Users/alexbaranski/Desktop/fig_folder/DAE_error_2.eps')"
   ]
  },
  {
   "cell_type": "code",
   "execution_count": null,
   "metadata": {},
   "outputs": [],
   "source": [
    "phases = list()\n",
    "for j in range(len(dataset)):\n",
    "    x = dataset[j]\n",
    "    x_hat, code = ripcoder.forward(x)\n",
    "    code_polar = pytorch_STDP.cart_to_polar(code)\n",
    "    phases\n",
    "    # print(code_polar)\n",
    "\n",
    "f1 = plt.figure()\n",
    "ax1 = plt.subplot(2,1,1)\n",
    "plt.plot(error_hist)\n",
    "ax1.set_title('Error')\n",
    "ax2 = plt.subplot(2,1,2)\n",
    "plt.plot(entropy_hist)\n",
    "ax2.set_title('Encoding Phase Entropy')\n",
    "plt.show()"
   ]
  },
  {
   "cell_type": "code",
   "execution_count": null,
   "metadata": {
    "scrolled": false
   },
   "outputs": [],
   "source": [
    "f2 = plt.figure(figsize=(10,5))\n",
    "colors = [[0,0,0],\n",
    "          [1,0,0],\n",
    "          [0,1,0],\n",
    "          [0,0,1],\n",
    "          [1,1,0],\n",
    "          [1,0,1],\n",
    "          [0,1,1],\n",
    "          [.5,.5,0],\n",
    "          [.5,0,.5],\n",
    "          [0,.5,.5]\n",
    "         ]\n",
    "for i, d in enumerate(dataset):\n",
    "    x_hat, code = ripcoder.forward(d)\n",
    "    code_polar = pytorch_STDP.cart_to_polar(code)\n",
    "    phases = code_polar[1].detach().numpy()\n",
    "    # rates = code_polar[0].detach().numpy()\n",
    "    phases = [2*np.pi*p for p in phases[0]]\n",
    "    # print(i, phases)\n",
    "    ax = plt.subplot(2, 5, i+1, polar=True)\n",
    "    for phase in phases:\n",
    "        # x = [0, np.cos(phase)]\n",
    "        # y = [0, np.sin(phase)]\n",
    "        \n",
    "        theta = [0, 360 * phase / (2 * np.pi)]\n",
    "        r = [0, 1]\n",
    "        \n",
    "        # x = [0, np.cos(np.mod(phase, np.pi))]\n",
    "        # y = [0, np.sin(np.mod(phase, np.pi))]\n",
    "        plt.plot(theta,r,color=colors[i])\n",
    "    # mod_phases = \n",
    "    ax.set_aspect(1)\n",
    "    # ax.set_xlim([-1,1])\n",
    "    # ax.set_ylim([-1,1])\n",
    "    \n",
    "plt.show()"
   ]
  },
  {
   "cell_type": "code",
   "execution_count": null,
   "metadata": {},
   "outputs": [],
   "source": []
  },
  {
   "cell_type": "code",
   "execution_count": null,
   "metadata": {},
   "outputs": [],
   "source": []
  }
 ],
 "metadata": {
  "kernelspec": {
   "display_name": "DT_STDP",
   "language": "python",
   "name": "dt_stdp"
  },
  "language_info": {
   "codemirror_mode": {
    "name": "ipython",
    "version": 3
   },
   "file_extension": ".py",
   "mimetype": "text/x-python",
   "name": "python",
   "nbconvert_exporter": "python",
   "pygments_lexer": "ipython3",
   "version": "3.8.5"
  }
 },
 "nbformat": 4,
 "nbformat_minor": 4
}
